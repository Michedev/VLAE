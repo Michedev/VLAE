{
 "cells": [
  {
   "cell_type": "code",
   "execution_count": 1,
   "metadata": {
    "_kg_hide-input": true,
    "_kg_hide-output": true
   },
   "outputs": [
    {
     "name": "stdout",
     "output_type": "stream",
     "text": [
      "Collecting tensorflow-gpu==2.0.0-beta1\r\n",
      "\u001b[?25l  Downloading https://files.pythonhosted.org/packages/2b/53/e18c5e7a2263d3581a979645a185804782e59b8e13f42b9c3c3cfb5bb503/tensorflow_gpu-2.0.0b1-cp36-cp36m-manylinux1_x86_64.whl (348.9MB)\r\n",
      "\u001b[K     |████████████████████████████████| 348.9MB 121kB/s \r\n",
      "\u001b[?25hRequirement already satisfied: keras-applications>=1.0.6 in /opt/conda/lib/python3.6/site-packages (from tensorflow-gpu==2.0.0-beta1) (1.0.8)\r\n",
      "Requirement already satisfied: absl-py>=0.7.0 in /opt/conda/lib/python3.6/site-packages (from tensorflow-gpu==2.0.0-beta1) (0.7.1)\r\n",
      "Requirement already satisfied: grpcio>=1.8.6 in /opt/conda/lib/python3.6/site-packages (from tensorflow-gpu==2.0.0-beta1) (1.23.0)\r\n",
      "Requirement already satisfied: google-pasta>=0.1.6 in /opt/conda/lib/python3.6/site-packages (from tensorflow-gpu==2.0.0-beta1) (0.1.7)\r\n",
      "Requirement already satisfied: keras-preprocessing>=1.0.5 in /opt/conda/lib/python3.6/site-packages (from tensorflow-gpu==2.0.0-beta1) (1.1.0)\r\n",
      "Requirement already satisfied: termcolor>=1.1.0 in /opt/conda/lib/python3.6/site-packages (from tensorflow-gpu==2.0.0-beta1) (1.1.0)\r\n",
      "Requirement already satisfied: protobuf>=3.6.1 in /opt/conda/lib/python3.6/site-packages (from tensorflow-gpu==2.0.0-beta1) (3.7.1)\r\n",
      "Requirement already satisfied: wheel>=0.26 in /opt/conda/lib/python3.6/site-packages (from tensorflow-gpu==2.0.0-beta1) (0.33.4)\r\n",
      "Requirement already satisfied: numpy<2.0,>=1.14.5 in /opt/conda/lib/python3.6/site-packages (from tensorflow-gpu==2.0.0-beta1) (1.17.0)\r\n",
      "Requirement already satisfied: wrapt>=1.11.1 in /opt/conda/lib/python3.6/site-packages (from tensorflow-gpu==2.0.0-beta1) (1.11.2)\r\n",
      "Requirement already satisfied: gast>=0.2.0 in /opt/conda/lib/python3.6/site-packages (from tensorflow-gpu==2.0.0-beta1) (0.2.2)\r\n",
      "Collecting tf-estimator-nightly<1.14.0.dev2019060502,>=1.14.0.dev2019060501 (from tensorflow-gpu==2.0.0-beta1)\r\n",
      "\u001b[?25l  Downloading https://files.pythonhosted.org/packages/32/dd/99c47dd007dcf10d63fd895611b063732646f23059c618a373e85019eb0e/tf_estimator_nightly-1.14.0.dev2019060501-py2.py3-none-any.whl (496kB)\r\n",
      "\u001b[K     |████████████████████████████████| 501kB 29.6MB/s \r\n",
      "\u001b[?25hRequirement already satisfied: six>=1.10.0 in /opt/conda/lib/python3.6/site-packages (from tensorflow-gpu==2.0.0-beta1) (1.12.0)\r\n",
      "Requirement already satisfied: astor>=0.6.0 in /opt/conda/lib/python3.6/site-packages (from tensorflow-gpu==2.0.0-beta1) (0.8.0)\r\n",
      "Collecting tb-nightly<1.14.0a20190604,>=1.14.0a20190603 (from tensorflow-gpu==2.0.0-beta1)\r\n",
      "\u001b[?25l  Downloading https://files.pythonhosted.org/packages/a4/96/571b875cd81dda9d5dfa1422a4f9d749e67c0a8d4f4f0b33a4e5f5f35e27/tb_nightly-1.14.0a20190603-py3-none-any.whl (3.1MB)\r\n",
      "\u001b[K     |████████████████████████████████| 3.1MB 17.2MB/s \r\n",
      "\u001b[?25hRequirement already satisfied: h5py in /opt/conda/lib/python3.6/site-packages (from keras-applications>=1.0.6->tensorflow-gpu==2.0.0-beta1) (2.9.0)\r\n",
      "Requirement already satisfied: setuptools in /opt/conda/lib/python3.6/site-packages (from protobuf>=3.6.1->tensorflow-gpu==2.0.0-beta1) (41.0.1)\r\n",
      "Requirement already satisfied: markdown>=2.6.8 in /opt/conda/lib/python3.6/site-packages (from tb-nightly<1.14.0a20190604,>=1.14.0a20190603->tensorflow-gpu==2.0.0-beta1) (3.1.1)\r\n",
      "Requirement already satisfied: werkzeug>=0.11.15 in /opt/conda/lib/python3.6/site-packages (from tb-nightly<1.14.0a20190604,>=1.14.0a20190603->tensorflow-gpu==2.0.0-beta1) (0.15.5)\r\n",
      "Installing collected packages: tf-estimator-nightly, tb-nightly, tensorflow-gpu\r\n",
      "Successfully installed tb-nightly-1.14.0a20190603 tensorflow-gpu-2.0.0b1 tf-estimator-nightly-1.14.0.dev2019060501\r\n"
     ]
    }
   ],
   "source": [
    "!pip install tensorflow-gpu==2.0.0-beta1"
   ]
  },
  {
   "cell_type": "code",
   "execution_count": 2,
   "metadata": {
    "_cell_guid": "b1076dfc-b9ad-4769-8c92-a6c4dae69d19",
    "_kg_hide-input": true,
    "_kg_hide-output": true,
    "_uuid": "8f2839f25d086af736a60e9eeb907d3b93b6e0e5"
   },
   "outputs": [
    {
     "name": "stderr",
     "output_type": "stream",
     "text": [
      "/opt/conda/lib/python3.6/site-packages/tensorflow/python/framework/dtypes.py:516: FutureWarning: Passing (type, 1) or '1type' as a synonym of type is deprecated; in a future version of numpy, it will be understood as (type, (1,)) / '(1,)type'.\n",
      "  _np_qint8 = np.dtype([(\"qint8\", np.int8, 1)])\n",
      "/opt/conda/lib/python3.6/site-packages/tensorflow/python/framework/dtypes.py:517: FutureWarning: Passing (type, 1) or '1type' as a synonym of type is deprecated; in a future version of numpy, it will be understood as (type, (1,)) / '(1,)type'.\n",
      "  _np_quint8 = np.dtype([(\"quint8\", np.uint8, 1)])\n",
      "/opt/conda/lib/python3.6/site-packages/tensorflow/python/framework/dtypes.py:518: FutureWarning: Passing (type, 1) or '1type' as a synonym of type is deprecated; in a future version of numpy, it will be understood as (type, (1,)) / '(1,)type'.\n",
      "  _np_qint16 = np.dtype([(\"qint16\", np.int16, 1)])\n",
      "/opt/conda/lib/python3.6/site-packages/tensorflow/python/framework/dtypes.py:519: FutureWarning: Passing (type, 1) or '1type' as a synonym of type is deprecated; in a future version of numpy, it will be understood as (type, (1,)) / '(1,)type'.\n",
      "  _np_quint16 = np.dtype([(\"quint16\", np.uint16, 1)])\n",
      "/opt/conda/lib/python3.6/site-packages/tensorflow/python/framework/dtypes.py:520: FutureWarning: Passing (type, 1) or '1type' as a synonym of type is deprecated; in a future version of numpy, it will be understood as (type, (1,)) / '(1,)type'.\n",
      "  _np_qint32 = np.dtype([(\"qint32\", np.int32, 1)])\n",
      "/opt/conda/lib/python3.6/site-packages/tensorflow/python/framework/dtypes.py:525: FutureWarning: Passing (type, 1) or '1type' as a synonym of type is deprecated; in a future version of numpy, it will be understood as (type, (1,)) / '(1,)type'.\n",
      "  np_resource = np.dtype([(\"resource\", np.ubyte, 1)])\n",
      "/opt/conda/lib/python3.6/site-packages/tensorboard/compat/tensorflow_stub/dtypes.py:541: FutureWarning: Passing (type, 1) or '1type' as a synonym of type is deprecated; in a future version of numpy, it will be understood as (type, (1,)) / '(1,)type'.\n",
      "  _np_qint8 = np.dtype([(\"qint8\", np.int8, 1)])\n",
      "/opt/conda/lib/python3.6/site-packages/tensorboard/compat/tensorflow_stub/dtypes.py:542: FutureWarning: Passing (type, 1) or '1type' as a synonym of type is deprecated; in a future version of numpy, it will be understood as (type, (1,)) / '(1,)type'.\n",
      "  _np_quint8 = np.dtype([(\"quint8\", np.uint8, 1)])\n",
      "/opt/conda/lib/python3.6/site-packages/tensorboard/compat/tensorflow_stub/dtypes.py:543: FutureWarning: Passing (type, 1) or '1type' as a synonym of type is deprecated; in a future version of numpy, it will be understood as (type, (1,)) / '(1,)type'.\n",
      "  _np_qint16 = np.dtype([(\"qint16\", np.int16, 1)])\n",
      "/opt/conda/lib/python3.6/site-packages/tensorboard/compat/tensorflow_stub/dtypes.py:544: FutureWarning: Passing (type, 1) or '1type' as a synonym of type is deprecated; in a future version of numpy, it will be understood as (type, (1,)) / '(1,)type'.\n",
      "  _np_quint16 = np.dtype([(\"quint16\", np.uint16, 1)])\n",
      "/opt/conda/lib/python3.6/site-packages/tensorboard/compat/tensorflow_stub/dtypes.py:545: FutureWarning: Passing (type, 1) or '1type' as a synonym of type is deprecated; in a future version of numpy, it will be understood as (type, (1,)) / '(1,)type'.\n",
      "  _np_qint32 = np.dtype([(\"qint32\", np.int32, 1)])\n",
      "/opt/conda/lib/python3.6/site-packages/tensorboard/compat/tensorflow_stub/dtypes.py:550: FutureWarning: Passing (type, 1) or '1type' as a synonym of type is deprecated; in a future version of numpy, it will be understood as (type, (1,)) / '(1,)type'.\n",
      "  np_resource = np.dtype([(\"resource\", np.ubyte, 1)])\n"
     ]
    }
   ],
   "source": [
    "# This Python 3 environment comes with many helpful analytics libraries installed\n",
    "# It is defined by the kaggle/python docker image: https://github.com/kaggle/docker-python\n",
    "# For example, here's several helpful packages to load in \n",
    "\n",
    "import numpy as np # linear algebra\n",
    "import pandas as pd # data processing, CSV file I/O (e.g. pd.read_csv)\n",
    "import gc\n",
    "import tensorflow as tf\n",
    "import tensorflow_probability as tfp\n",
    "from tensorflow.keras import Model, Sequential\n",
    "from functools import partial\n",
    "import matplotlib.pyplot as plt\n",
    "import seaborn as sns\n",
    "from tensorflow.keras.layers import Dense, Conv2D, MaxPool2D, Flatten, Conv2DTranspose,\\\n",
    "                                    Reshape, ReLU, LeakyReLU,BatchNormalization, Lambda, \\\n",
    "                                    UpSampling2D, Softmax, Input, Dropout, AvgPool2D, Concatenate, \\\n",
    "                                    LocallyConnected2D, SpatialDropout2D, Activation, InputLayer\n",
    "# Input data files are available in the \"../input/\" directory.\n",
    "# For example, running this (by clicking run or pressing Shift+Enter) will list the files in the input directory\n",
    "\n",
    "import os\n",
    "# Any results you write to the current directory are saved as output."
   ]
  },
  {
   "cell_type": "markdown",
   "metadata": {},
   "source": [
    "# Variational Ladder AutoEncoder with MMD\n",
    "Paper link: https://arxiv.org/abs/1702.08396 <br>\n",
    "While the paper implementation uses as regularizer between $ p(z) $ and $ p(x|z)$  the KL-Leibler divergence with warm up, my personal implementation use Maximum Mean Discrepancy with a rbf kernel\n",
    "### VLAE representation as graphical model\n",
    "![](https://i.ibb.co/yp7gwwT/vlae.png)\n"
   ]
  },
  {
   "cell_type": "code",
   "execution_count": 3,
   "metadata": {},
   "outputs": [
    {
     "data": {
      "text/plain": [
       "'2.0.0-beta1'"
      ]
     },
     "execution_count": 3,
     "metadata": {},
     "output_type": "execute_result"
    }
   ],
   "source": [
    "tf.__version__"
   ]
  },
  {
   "cell_type": "markdown",
   "metadata": {},
   "source": [
    "# Data loading and preprocessing\n",
    "I've loaded the MNIST dataset (train and test), separated pixels from labels then normalized in a $[0,1]$ scale"
   ]
  },
  {
   "cell_type": "code",
   "execution_count": 4,
   "metadata": {
    "_cell_guid": "79c7e3d0-c299-4dcb-8224-4455121ee9b0",
    "_uuid": "d629ff2d2480ee46fbb7e2d37f6b5fab8052498a"
   },
   "outputs": [],
   "source": [
    "data = pd.read_csv('../input/mnist-in-csv/mnist_train.csv')\n",
    "test = pd.read_csv('../input/mnist-in-csv/mnist_test.csv')"
   ]
  },
  {
   "cell_type": "code",
   "execution_count": 5,
   "metadata": {},
   "outputs": [
    {
     "data": {
      "text/plain": [
       "0"
      ]
     },
     "execution_count": 5,
     "metadata": {},
     "output_type": "execute_result"
    }
   ],
   "source": [
    "image_class = data.iloc[:, 0].copy()\n",
    "images = data.iloc[:, 1:].copy()\n",
    "del data\n",
    "gc.collect()\n",
    "test_image_class = test.iloc[:, 0].copy()\n",
    "test_images = test.iloc[:, 1:].copy()\n",
    "del test\n",
    "gc.collect()"
   ]
  },
  {
   "cell_type": "code",
   "execution_count": 6,
   "metadata": {},
   "outputs": [],
   "source": [
    "images = images.astype('float32')\n",
    "images = images.values / images.max().max()\n",
    "test_images = test_images.astype('float32')\n",
    "test_images = test_images.values / test_images.max().max()"
   ]
  },
  {
   "cell_type": "code",
   "execution_count": 7,
   "metadata": {},
   "outputs": [
    {
     "data": {
      "image/png": "[encoded data removed]",
      "text/plain": [
       "<Figure size 432x288 with 1 Axes>"
      ]
     },
     "metadata": {
      "needs_background": "light"
     },
     "output_type": "display_data"
    },
    {
     "data": {
      "image/png": "[encoded data removed]",
      "text/plain": [
       "<Figure size 432x288 with 1 Axes>"
      ]
     },
     "metadata": {
      "needs_background": "light"
     },
     "output_type": "display_data"
    },
    {
     "data": {
      "image/png": "[encoded data removed]",
      "text/plain": [
       "<Figure size 432x288 with 1 Axes>"
      ]
     },
     "metadata": {
      "needs_background": "light"
     },
     "output_type": "display_data"
    },
    {
     "data": {
      "image/png": "[encoded data removed]",
      "text/plain": [
       "<Figure size 432x288 with 1 Axes>"
      ]
     },
     "metadata": {
      "needs_background": "light"
     },
     "output_type": "display_data"
    },
    {
     "data": {
      "image/png": "[encoded data removed]",
      "text/plain": [
       "<Figure size 432x288 with 1 Axes>"
      ]
     },
     "metadata": {
      "needs_background": "light"
     },
     "output_type": "display_data"
    }
   ],
   "source": [
    "for i in np.random.randint(0,  len(test_images)-1, 5):\n",
    "    plt.imshow(test_images[i].reshape((28,28)), cmap='gray_r')\n",
    "    plt.show()"
   ]
  },
  {
   "cell_type": "markdown",
   "metadata": {},
   "source": [
    "# VLAE Definition"
   ]
  },
  {
   "cell_type": "markdown",
   "metadata": {},
   "source": [
    "## Normal Stocastic layer\n",
    "This custom layer implements the variational layer with Normal distribution following the [original paper of VAE](https://arxiv.org/abs/1312.6114) <br>\n",
    "Down below the graph representation of this layer\n",
    "![](https://i.ibb.co/5MVC3Yg/normal-variational.png) \n",
    "The class constructor allows to:\n",
    "- specify the size of the multivariate normal\n",
    "- set prior mean and variance\n",
    "- add to loss kl divergence and its coefficient\n",
    "- add to loss MMD (Maximum Mean Discrepancy), its coefficient and the kernel (by default rbf). The class implements itself yet both linear and rbf kernel ([implementation taken from InfoVAE authors](https://ermongroup.github.io/blog/a-tutorial-on-mmd-variational-autoencoders))\n",
    "- show as metric mean posterior $\\mu$ and $\\sigma^2$ to check if the regularization part works well"
   ]
  },
  {
   "cell_type": "code",
   "execution_count": 8,
   "metadata": {},
   "outputs": [],
   "source": [
    "class NormalVariational(tf.keras.layers.Layer):\n",
    "    \n",
    "    def __init__(self, size, mu_prior=0., sigma_prior=1., add_kl=True, coef_kl = 1.0, add_mmd=False, lambda_mmd=1.0, kernel_f=None, name=None, show_posterior=True):\n",
    "        super().__init__(name=name)\n",
    "        self.mu_layer = tf.keras.layers.Dense(size)\n",
    "        self.sigma_layer = tf.keras.layers.Dense(size)\n",
    "        self.add_kl = add_kl\n",
    "        self.mu_prior = tf.constant(mu_prior, dtype=tf.float32, shape=(size,))\n",
    "        self.sigma_prior = tf.constant(sigma_prior, dtype=tf.float32, shape=(size,))\n",
    "        self.show_posterior = show_posterior\n",
    "        self.coef_kl = tf.Variable(coef_kl, trainable=False, name='coef_kl')\n",
    "        self.add_mmd = add_mmd\n",
    "        if kernel_f is None:\n",
    "            self.kernel_f = self._rbf\n",
    "        else:\n",
    "            self.kernel_f = kernel_f\n",
    "        self.lambda_mmd = lambda_mmd\n",
    "            \n",
    "    def _rbf(self, x, y):\n",
    "        x_size = tf.shape(x)[0]\n",
    "        y_size = tf.shape(y)[0]\n",
    "        dim = tf.shape(x)[1]\n",
    "        tiled_x = tf.tile(tf.reshape(x, tf.stack([x_size, 1, dim])), tf.stack([1, y_size, 1]))\n",
    "        tiled_y = tf.tile(tf.reshape(y, tf.stack([1, y_size, dim])), tf.stack([x_size, 1, 1]))\n",
    "        return tf.exp(-tf.reduce_mean(tf.square(tiled_x - tiled_y), axis=2) / tf.cast(dim, tf.float32))\n",
    "    \n",
    "    def _linear(self, x,y):\n",
    "        return tf.reduce_sum(tf.multiply(x,y))\n",
    "        \n",
    "    def add_kl_divergence(self, mu1, sigma1, mu2, sigma2):\n",
    "            logsigma1, logsigma2 = tf.math.log(sigma1), tf.math.log(sigma2)\n",
    "            mu_diff = mu1 - mu2\n",
    "            kl = self.coef_kl * \\\n",
    "                tf.reduce_sum(logsigma1 - logsigma2 - 1. + (sigma2 + tf.square(mu_diff)) / sigma1, axis=1)\n",
    "            kl = tf.reduce_mean(kl)\n",
    "            self.add_loss(kl)\n",
    "            self.add_metric(kl, 'mean', 'kl_divergence')\n",
    "\n",
    "    def call(self, inputs):\n",
    "        mu = self.mu_layer(inputs)\n",
    "        log_sigma =  self.sigma_layer(inputs)\n",
    "        sigma_square = tf.exp(log_sigma)\n",
    "        if self.add_kl:\n",
    "            self.add_kl_divergence(mu, sigma_square, self.mu_prior, self.sigma_prior)\n",
    "        if self.show_posterior:\n",
    "            self.add_metric(mu, 'mean', 'mu_posteror')\n",
    "            self.add_metric(sigma_square, 'mean', 'sigma^2_posterior')\n",
    "        z = mu + sigma_square * tf.random.normal(tf.shape(sigma_square))\n",
    "        if self.add_mmd:\n",
    "            z_prior = tfp.distributions.MultivariateNormalDiag(self.mu_prior, self.sigma_prior).sample(tf.shape(z)[0])\n",
    "            print(z_prior)\n",
    "            print(z)\n",
    "            k_prior = self.kernel_f(z_prior, z_prior)\n",
    "            k_post = self.kernel_f(z, z)\n",
    "            k_prior_post = self.kernel_f(z_prior, z)\n",
    "            mmd = tf.reduce_mean(k_prior) + tf.reduce_mean(k_post) - 2 * tf.reduce_mean(k_prior_post)\n",
    "            mmd = tf.multiply(self.lambda_mmd,  mmd, name='mmd')\n",
    "            self.add_loss(mmd)\n",
    "            self.add_metric(mmd, 'mean', 'mmd')\n",
    "        return z\n"
   ]
  },
  {
   "cell_type": "code",
   "execution_count": 9,
   "metadata": {
    "_kg_hide-input": true,
    "_kg_hide-output": true
   },
   "outputs": [
    {
     "data": {
      "text/plain": [
       "10804"
      ]
     },
     "execution_count": 9,
     "metadata": {},
     "output_type": "execute_result"
    }
   ],
   "source": [
    "tf.keras.backend.clear_session()\n",
    "gc.collect()"
   ]
  },
  {
   "cell_type": "markdown",
   "metadata": {},
   "source": [
    "## Network definition\n",
    "1. Layers between the input, $h_1, h_2, h_3$ are sequences of a convolutional layer, batch normalization and relu. \n",
    "2. Sometimes there is a SpatialDroput layer to make the model more robust\n",
    "3. The encoder part output $h_1, h_2, h_3$ that are given in input respectively to $z_1, z_2, z_3$, three normal stochastic layers\n",
    "4. Then $\\widetilde{z}_3$ is obtained from $z_3$ with three Dense/BN/Relu with size 1024\n",
    "5. $\\widetilde{z}_2$ receive in input the concatenation of $[\\widetilde{z}_3, g(z_2)]$ where $g(\\cdot)$ is a neural network; <br>\n",
    "in my case is a single Dense layer with relu activation\n",
    "5. $\\widetilde{z}_1$ receive in input the concatenation of $[\\widetilde{z}_2, g(z_1)]$ where $g(\\cdot)$ is a neural network; <br>\n",
    "in my case is a single Dense layer with relu activation\n",
    "6. From $\\widetilde{z}_1$ starts the effective decoder part, that increase the size until the original one. Differently from the original paper, i've used UpSampling2D/Conv2D instead of Transpose convolution because produce less artifacts  <br><br>\n",
    "Note: Since the learnable params of batch norm gives every training NaN values into it i've virtually removed setting trainable=False into every BatchNorm layer; honestly i don't understood exactly the NaN reason, maybe the stochasticity of this neural network "
   ]
  },
  {
   "cell_type": "code",
   "execution_count": 10,
   "metadata": {},
   "outputs": [],
   "source": [
    "def make_encoder(latent_size):\n",
    "    droput_rate = 0.05\n",
    "    inputs = Input((28,28,1))\n",
    "    with tf.name_scope('h_1'):\n",
    "        h_1_layers = Sequential([ \n",
    "            Input((28, 28, 1)),\n",
    "            Conv2D(8, 3),\n",
    "            BatchNormalization(trainable=False),\n",
    "            ReLU(),\n",
    "            Conv2D(16, 3),\n",
    "            BatchNormalization(trainable=False),\n",
    "            SpatialDropout2D(droput_rate),\n",
    "            ReLU()], name='h_1')\n",
    "        h_1 = h_1_layers(inputs)\n",
    "        h_1_flatten = Flatten()(h_1)\n",
    "    with tf.name_scope('h_2'):\n",
    "        h_2_layers = Sequential([ \n",
    "            Conv2D(16, 3),\n",
    "            BatchNormalization(trainable=False),\n",
    "            ReLU(),\n",
    "            Conv2D(16, 3),\n",
    "            BatchNormalization(trainable=False),\n",
    "            SpatialDropout2D(droput_rate),\n",
    "            ReLU()], name='h_2')\n",
    "        h_2 = h_2_layers(h_1)\n",
    "        h_2_flatten = Flatten()(h_2)\n",
    "    with tf.name_scope('h_3'):\n",
    "        h_3_layers = Sequential([ \n",
    "            Conv2D(16, 3),\n",
    "            BatchNormalization(trainable=False),\n",
    "            ReLU(),\n",
    "            Conv2D(16, 3),\n",
    "            BatchNormalization(trainable=False),\n",
    "            SpatialDropout2D(droput_rate),\n",
    "            ReLU()], name='h_3')\n",
    "        h_3 = h_3_layers(h_2)\n",
    "        h_3_flatten = Flatten()(h_3)\n",
    "    return Model(inputs, [h_1_flatten, h_2_flatten, h_3_flatten], name='encoder')\n",
    "        \n",
    "def make_decoder(latent_dim1, latent_dim2, latent_dim3):\n",
    "    z_1_input, z_2_input, z_3_input = Input((latent_dim1,), name='z_1'), Input((latent_dim2,), name='z_2'), Input((latent_dim3,), name='z_3')\n",
    "    \n",
    "    with tf.name_scope('z_tilde_3'):\n",
    "        z_3 = Dense(1024, activation='relu')(z_3_input)\n",
    "        z_tilde_3_layers = Sequential([\n",
    "            Dense(1024),\n",
    "            BatchNormalization(trainable=False),\n",
    "            ReLU()] * 3, name='z_tilde_3')\n",
    "        z_tilde_3 = z_tilde_3_layers(z_3)\n",
    "        \n",
    "    with tf.name_scope('z_tilde_2'):\n",
    "        z_2 = Dense(128, activation='relu')(z_2_input)\n",
    "        z_tilde_2_layers = Sequential([\n",
    "            Dense(128),\n",
    "            BatchNormalization(trainable=False),\n",
    "             ReLU()] * 3, name='z_tilde_2')\n",
    "        input_z_tilde_2 = Concatenate()([z_tilde_3, z_2])\n",
    "        z_tilde_2 =  z_tilde_2_layers(input_z_tilde_2)\n",
    "    \n",
    "    with tf.name_scope('z_tilde_1'):\n",
    "        z_1 = Dense(128, activation='relu')(z_1_input)\n",
    "        z_tilde_1_layers = Sequential([\n",
    "            Dense(128),\n",
    "            BatchNormalization(trainable=False),\n",
    "             ReLU()] * 3, name='z_tilde_1')\n",
    "        input_z_tilde_1 = Concatenate()([z_tilde_2, z_1])\n",
    "        z_tilde_1 =  z_tilde_1_layers(input_z_tilde_1)\n",
    "        \n",
    "    with tf.name_scope('decoder'):\n",
    "        decoder = Reshape((2,2,32))(z_tilde_1)\n",
    "        decoder = UpSampling2D(2)(decoder) #4x4\n",
    "        decoder = Conv2D(32, 3)(decoder) #2x2\n",
    "        decoder = BatchNormalization(trainable=False)(decoder)\n",
    "        decoder = Activation(tf.nn.crelu)(decoder)\n",
    "        decoder = UpSampling2D(4)(decoder) #8x8\n",
    "        decoder = Conv2D(16, 3)(decoder) #6x6\n",
    "        decoder = BatchNormalization(trainable=False)(decoder)\n",
    "        decoder = Activation(tf.nn.crelu)(decoder)\n",
    "        decoder = UpSampling2D(2)(decoder) #12x12\n",
    "        decoder = Conv2D(8, 3)(decoder) #10x10\n",
    "        decoder = BatchNormalization(trainable=False)(decoder)\n",
    "        decoder = Activation(tf.nn.crelu)(decoder)\n",
    "        decoder = UpSampling2D(2)(decoder) #20x20\n",
    "        decoder = Conv2D(4, 5)(decoder) #16x16\n",
    "        decoder = BatchNormalization(trainable=False)(decoder)\n",
    "        decoder = LeakyReLU()(decoder)\n",
    "        decoder = UpSampling2D(2)(decoder) #32x32\n",
    "        decoder = Conv2D(1, 5)(decoder) #28x28\n",
    "        decoder = Activation('sigmoid')(decoder)\n",
    "    return Model([z_1_input, z_2_input, z_3_input], decoder, name='decoder')\n",
    "\n",
    "def make_vlae(latent_size):\n",
    "    with tf.name_scope('encoder'):\n",
    "        encoder = make_encoder(latent_size)\n",
    "    with tf.name_scope('decoder'):\n",
    "        decoder = make_decoder(latent_size, latent_size, latent_size)\n",
    "    inputs = Input((28,28,1))\n",
    "    h_1, h_2, h_3 = encoder(inputs)\n",
    "    z_1 = NormalVariational(latent_size, add_kl=False, coef_kl=0.0, add_mmd=True, lambda_mmd=1., name='z_1_latent')(h_1)\n",
    "    z_2 = NormalVariational(latent_size, add_kl=False, coef_kl=0.0, add_mmd=True, lambda_mmd=1., name='z_2_latent')(h_2)\n",
    "    z_3 = NormalVariational(latent_size, add_kl=False, coef_kl=0.0, add_mmd=True, lambda_mmd=10., name='z_3_latent')(h_3)\n",
    "    \n",
    "    decoded = decoder([z_1, z_2, z_3])\n",
    "    vlae = Model(inputs, decoded, name='vlae')\n",
    "    return vlae"
   ]
  },
  {
   "cell_type": "code",
   "execution_count": 11,
   "metadata": {},
   "outputs": [
    {
     "name": "stdout",
     "output_type": "stream",
     "text": [
      "Tensor(\"z_1_latent/MultivariateNormalDiag/sample/affine_linear_operator/forward/add:0\", shape=(None, 2), dtype=float32)\n",
      "Tensor(\"z_1_latent/add:0\", shape=(None, 2), dtype=float32)\n",
      "Tensor(\"z_2_latent/MultivariateNormalDiag/sample/affine_linear_operator/forward/add:0\", shape=(None, 2), dtype=float32)\n",
      "Tensor(\"z_2_latent/add:0\", shape=(None, 2), dtype=float32)\n",
      "Tensor(\"z_3_latent/MultivariateNormalDiag/sample/affine_linear_operator/forward/add:0\", shape=(None, 2), dtype=float32)\n",
      "Tensor(\"z_3_latent/add:0\", shape=(None, 2), dtype=float32)\n"
     ]
    }
   ],
   "source": [
    "latent_size = 2\n",
    "vlae = make_vlae(latent_size)"
   ]
  },
  {
   "cell_type": "code",
   "execution_count": 12,
   "metadata": {
    "_kg_hide-input": true
   },
   "outputs": [
    {
     "name": "stdout",
     "output_type": "stream",
     "text": [
      "Model: \"vlae\"\n",
      "__________________________________________________________________________________________________\n",
      "Layer (type)                    Output Shape         Param #     Connected to                     \n",
      "==================================================================================================\n",
      "input_3 (InputLayer)            [(None, 28, 28, 1)]  0                                            \n",
      "__________________________________________________________________________________________________\n",
      "encoder (Model)                 [(None, 9216), (None 10880       input_3[0][0]                    \n",
      "__________________________________________________________________________________________________\n",
      "z_1_latent (NormalVariational)  (None, 2)            36869       encoder[1][0]                    \n",
      "__________________________________________________________________________________________________\n",
      "z_2_latent (NormalVariational)  (None, 2)            25605       encoder[1][1]                    \n",
      "__________________________________________________________________________________________________\n",
      "z_3_latent (NormalVariational)  (None, 2)            16389       encoder[1][2]                    \n",
      "__________________________________________________________________________________________________\n",
      "decoder (Model)                 (None, 28, 28, 1)    3732177     z_1_latent[0][0]                 \n",
      "                                                                 z_2_latent[0][0]                 \n",
      "                                                                 z_3_latent[0][0]                 \n",
      "==================================================================================================\n",
      "Total params: 1,351,520\n",
      "Trainable params: 1,345,805\n",
      "Non-trainable params: 5,715\n",
      "__________________________________________________________________________________________________\n"
     ]
    }
   ],
   "source": [
    "vlae.summary()"
   ]
  },
  {
   "cell_type": "code",
   "execution_count": 13,
   "metadata": {},
   "outputs": [],
   "source": [
    "def flatten_binary_crossentropy(x,xhat):\n",
    "    return 10 * tf.losses.binary_crossentropy(Flatten()(x), Flatten()(xhat))\n",
    "\n",
    "vlae.compile(tf.keras.optimizers.Adam(), flatten_binary_crossentropy)"
   ]
  },
  {
   "cell_type": "markdown",
   "metadata": {},
   "source": [
    "### KL Warm Up\n",
    "\n",
    "Keras Callback that implements KL Warm Up for stocastic layers. <br>\n",
    "Unfortunately the current implementation of this callback is code dependent because use the pre-defined names of stochastic layers to find they\n",
    "<br>\n",
    "Basically the KL Warm Up constist in set the coefficient before KL divergence to 0 on the first epochs in order to allow the model to properly learn the encoder/decoder part. Then after a specified epoch the coefficient starts to increase until a maximum<br>\n",
    "All this parameters can be setted in the constructor of this class"
   ]
  },
  {
   "cell_type": "code",
   "execution_count": 14,
   "metadata": {},
   "outputs": [],
   "source": [
    "class KLWarmUp(tf.keras.callbacks.Callback):\n",
    "    \n",
    "    def __init__(self, vlae, start_epoch = 1, max_value = 1.0, delta = 0.05):\n",
    "        self.start_epoch = start_epoch\n",
    "        self.max_value = 1.0\n",
    "        self.delta = delta \n",
    "        self.epoch = 0\n",
    "        self.vlae = vlae\n",
    "        \n",
    "    def on_epoch_end(self, *args, **kwargs):\n",
    "        self.epoch += 1\n",
    "        if self.start_epoch <= self.epoch:\n",
    "            coefs = [self.vlae.get_layer(f'z_{i+1}_latent').coef_kl for i in range(3)]\n",
    "            for coef in coefs:\n",
    "                if coef <= self.max_value:\n",
    "                    coef.assign_add(self.delta)"
   ]
  },
  {
   "cell_type": "markdown",
   "metadata": {},
   "source": [
    "# Training\n",
    "* If you create a kernel from the output of this one you can use tensorboard to visualize the learning of the model\n",
    "* The learning rate is log uniform between 0.0012 and 0.00001; before i've tried higher lr but the convergence was worse\n",
    "* EarlyStopping if the validation loss doesn't improve for 15 epochs of 0.001\n",
    "* 200 epochs, batch_size=256"
   ]
  },
  {
   "cell_type": "code",
   "execution_count": 15,
   "metadata": {},
   "outputs": [],
   "source": [
    "from tensorflow.keras.callbacks import TensorBoard, LearningRateScheduler, EarlyStopping\n",
    "tb = TensorBoard(write_grads=True, write_images=False, write_graph=True, histogram_freq=2)\n",
    "es = EarlyStopping(min_delta=0.001, patience=15)\n",
    "# klwarmup = KLWarmUp(vlae, start_epoch=30, max_value=0.33)"
   ]
  },
  {
   "cell_type": "code",
   "execution_count": 16,
   "metadata": {},
   "outputs": [],
   "source": [
    "epochs = 200\n",
    "lr_epochs = 10 ** np.linspace(-2.9, -4, epochs)\n",
    "lrsched = LearningRateScheduler(lambda i: lr_epochs[i])"
   ]
  },
  {
   "cell_type": "code",
   "execution_count": 17,
   "metadata": {},
   "outputs": [],
   "source": [
    "images = images.reshape((-1, 28, 28, 1))\n",
    "test_images = test_images.reshape((-1, 28, 28, 1))"
   ]
  },
  {
   "cell_type": "code",
   "execution_count": 18,
   "metadata": {},
   "outputs": [
    {
     "name": "stdout",
     "output_type": "stream",
     "text": [
      "Train on 60000 samples, validate on 10000 samples\n",
      "Epoch 1/200\n",
      "60000/60000 [==============================] - 24s 407us/sample - loss: 2.7912 - mu_posteror: 0.0034 - sigma^2_posterior: 0.9907 - mmd: 0.0382 - val_loss: 2.5127 - val_mu_posteror: -0.0025 - val_sigma^2_posterior: 0.9872 - val_mmd: 0.0714\n",
      "Epoch 2/200\n",
      "60000/60000 [==============================] - 13s 224us/sample - loss: 2.3569 - mu_posteror: -0.0051 - sigma^2_posterior: 0.9900 - mmd: 0.0391 - val_loss: 2.2183 - val_mu_posteror: -0.0057 - val_sigma^2_posterior: 0.9981 - val_mmd: 0.0495\n",
      "Epoch 3/200\n",
      "60000/60000 [==============================] - 14s 229us/sample - loss: 2.1352 - mu_posteror: -0.0042 - sigma^2_posterior: 0.9953 - mmd: 0.0388 - val_loss: 2.0583 - val_mu_posteror: -0.0067 - val_sigma^2_posterior: 0.9891 - val_mmd: 0.0483\n",
      "Epoch 4/200\n",
      "60000/60000 [==============================] - 13s 219us/sample - loss: 2.0034 - mu_posteror: 0.0012 - sigma^2_posterior: 0.9979 - mmd: 0.0403 - val_loss: 1.9260 - val_mu_posteror: 0.0053 - val_sigma^2_posterior: 0.9884 - val_mmd: 0.0567\n",
      "Epoch 5/200\n",
      "60000/60000 [==============================] - 14s 225us/sample - loss: 1.8952 - mu_posteror: 0.0014 - sigma^2_posterior: 0.9895 - mmd: 0.0415 - val_loss: 1.8355 - val_mu_posteror: 0.0031 - val_sigma^2_posterior: 0.9955 - val_mmd: 0.0793\n",
      "Epoch 6/200\n",
      "60000/60000 [==============================] - 14s 226us/sample - loss: 1.7896 - mu_posteror: -0.0023 - sigma^2_posterior: 0.9961 - mmd: 0.0394 - val_loss: 1.7287 - val_mu_posteror: -0.0083 - val_sigma^2_posterior: 0.9964 - val_mmd: 0.0377\n",
      "Epoch 7/200\n",
      "60000/60000 [==============================] - 14s 228us/sample - loss: 1.7391 - mu_posteror: -0.0019 - sigma^2_posterior: 0.9958 - mmd: 0.0436 - val_loss: 1.7011 - val_mu_posteror: 0.0118 - val_sigma^2_posterior: 0.9969 - val_mmd: 0.0431\n",
      "Epoch 8/200\n",
      "60000/60000 [==============================] - 14s 225us/sample - loss: 1.7055 - mu_posteror: 0.0061 - sigma^2_posterior: 0.9919 - mmd: 0.0391 - val_loss: 1.7053 - val_mu_posteror: 0.0032 - val_sigma^2_posterior: 0.9891 - val_mmd: 0.0685\n",
      "Epoch 9/200\n",
      "60000/60000 [==============================] - 14s 232us/sample - loss: 1.6889 - mu_posteror: -7.8504e-04 - sigma^2_posterior: 0.9913 - mmd: 0.0381 - val_loss: 1.6532 - val_mu_posteror: 0.0029 - val_sigma^2_posterior: 0.9924 - val_mmd: 0.0596\n",
      "Epoch 10/200\n",
      "60000/60000 [==============================] - 13s 224us/sample - loss: 1.6724 - mu_posteror: -4.7902e-04 - sigma^2_posterior: 0.9962 - mmd: 0.0406 - val_loss: 1.6543 - val_mu_posteror: 5.2552e-04 - val_sigma^2_posterior: 0.9939 - val_mmd: 0.0604\n",
      "Epoch 11/200\n",
      "60000/60000 [==============================] - 14s 226us/sample - loss: 1.6590 - mu_posteror: -0.0012 - sigma^2_posterior: 0.9953 - mmd: 0.0404 - val_loss: 1.6420 - val_mu_posteror: -0.0062 - val_sigma^2_posterior: 1.0050 - val_mmd: 0.0790\n",
      "Epoch 12/200\n",
      "60000/60000 [==============================] - 13s 223us/sample - loss: 1.6524 - mu_posteror: -0.0026 - sigma^2_posterior: 1.0011 - mmd: 0.0446 - val_loss: 1.6255 - val_mu_posteror: 0.0035 - val_sigma^2_posterior: 1.0000 - val_mmd: 0.0605\n",
      "Epoch 13/200\n",
      "60000/60000 [==============================] - 14s 231us/sample - loss: 1.6377 - mu_posteror: 0.0013 - sigma^2_posterior: 0.9968 - mmd: 0.0383 - val_loss: 1.6165 - val_mu_posteror: -0.0035 - val_sigma^2_posterior: 0.9899 - val_mmd: 0.0678\n",
      "Epoch 14/200\n",
      "60000/60000 [==============================] - 13s 220us/sample - loss: 1.6323 - mu_posteror: -0.0011 - sigma^2_posterior: 0.9954 - mmd: 0.0379 - val_loss: 1.6182 - val_mu_posteror: 0.0068 - val_sigma^2_posterior: 0.9975 - val_mmd: 0.0460\n",
      "Epoch 15/200\n",
      "60000/60000 [==============================] - 13s 225us/sample - loss: 1.6234 - mu_posteror: 0.0034 - sigma^2_posterior: 0.9904 - mmd: 0.0421 - val_loss: 1.6089 - val_mu_posteror: 0.0018 - val_sigma^2_posterior: 0.9988 - val_mmd: 0.0437\n",
      "Epoch 16/200\n",
      "60000/60000 [==============================] - 13s 221us/sample - loss: 1.6203 - mu_posteror: -9.4967e-04 - sigma^2_posterior: 0.9988 - mmd: 0.0394 - val_loss: 1.6091 - val_mu_posteror: -5.3669e-04 - val_sigma^2_posterior: 0.9931 - val_mmd: 0.0478\n",
      "Epoch 17/200\n",
      "60000/60000 [==============================] - 14s 228us/sample - loss: 1.6122 - mu_posteror: -0.0027 - sigma^2_posterior: 0.9995 - mmd: 0.0380 - val_loss: 1.6052 - val_mu_posteror: -0.0088 - val_sigma^2_posterior: 1.0049 - val_mmd: 0.0544\n",
      "Epoch 18/200\n",
      "60000/60000 [==============================] - 13s 220us/sample - loss: 1.6128 - mu_posteror: -0.0044 - sigma^2_posterior: 0.9954 - mmd: 0.0428 - val_loss: 1.5932 - val_mu_posteror: 0.0055 - val_sigma^2_posterior: 0.9924 - val_mmd: 0.0564\n",
      "Epoch 19/200\n",
      "60000/60000 [==============================] - 14s 227us/sample - loss: 1.6024 - mu_posteror: 0.0011 - sigma^2_posterior: 0.9983 - mmd: 0.0402 - val_loss: 1.5976 - val_mu_posteror: -0.0046 - val_sigma^2_posterior: 0.9979 - val_mmd: 0.0603\n",
      "Epoch 20/200\n",
      "60000/60000 [==============================] - 13s 220us/sample - loss: 1.5973 - mu_posteror: -0.0021 - sigma^2_posterior: 0.9997 - mmd: 0.0385 - val_loss: 1.5974 - val_mu_posteror: -0.0048 - val_sigma^2_posterior: 0.9909 - val_mmd: 0.0484\n",
      "Epoch 21/200\n",
      "60000/60000 [==============================] - 14s 226us/sample - loss: 1.5929 - mu_posteror: -0.0040 - sigma^2_posterior: 0.9965 - mmd: 0.0380 - val_loss: 1.6073 - val_mu_posteror: 0.0018 - val_sigma^2_posterior: 1.0023 - val_mmd: 0.0955\n",
      "Epoch 22/200\n",
      "60000/60000 [==============================] - 14s 229us/sample - loss: 1.5888 - mu_posteror: 0.0047 - sigma^2_posterior: 0.9958 - mmd: 0.0386 - val_loss: 1.5847 - val_mu_posteror: 0.0031 - val_sigma^2_posterior: 0.9953 - val_mmd: 0.0521\n",
      "Epoch 23/200\n",
      "60000/60000 [==============================] - 13s 223us/sample - loss: 1.5881 - mu_posteror: -0.0013 - sigma^2_posterior: 0.9940 - mmd: 0.0386 - val_loss: 1.5868 - val_mu_posteror: -0.0073 - val_sigma^2_posterior: 0.9915 - val_mmd: 0.0433\n",
      "Epoch 24/200\n",
      "60000/60000 [==============================] - 13s 216us/sample - loss: 1.5842 - mu_posteror: -0.0026 - sigma^2_posterior: 0.9947 - mmd: 0.0398 - val_loss: 1.5741 - val_mu_posteror: -5.5596e-05 - val_sigma^2_posterior: 0.9937 - val_mmd: 0.0679\n",
      "Epoch 25/200\n",
      "60000/60000 [==============================] - 13s 224us/sample - loss: 1.5825 - mu_posteror: 0.0029 - sigma^2_posterior: 0.9908 - mmd: 0.0412 - val_loss: 1.5855 - val_mu_posteror: 0.0021 - val_sigma^2_posterior: 0.9980 - val_mmd: 0.0696\n",
      "Epoch 26/200\n",
      "60000/60000 [==============================] - 13s 219us/sample - loss: 1.5799 - mu_posteror: 0.0018 - sigma^2_posterior: 0.9979 - mmd: 0.0394 - val_loss: 1.5662 - val_mu_posteror: -0.0011 - val_sigma^2_posterior: 0.9934 - val_mmd: 0.0468\n",
      "Epoch 27/200\n",
      "60000/60000 [==============================] - 13s 224us/sample - loss: 1.5748 - mu_posteror: -0.0023 - sigma^2_posterior: 0.9918 - mmd: 0.0402 - val_loss: 1.5662 - val_mu_posteror: -0.0109 - val_sigma^2_posterior: 0.9980 - val_mmd: 0.0502\n",
      "Epoch 28/200\n",
      "60000/60000 [==============================] - 13s 221us/sample - loss: 1.5720 - mu_posteror: 4.8148e-04 - sigma^2_posterior: 0.9951 - mmd: 0.0394 - val_loss: 1.5840 - val_mu_posteror: -5.2617e-04 - val_sigma^2_posterior: 0.9963 - val_mmd: 0.0552\n",
      "Epoch 29/200\n",
      "60000/60000 [==============================] - 14s 227us/sample - loss: 1.5702 - mu_posteror: -4.9808e-04 - sigma^2_posterior: 0.9938 - mmd: 0.0382 - val_loss: 1.5649 - val_mu_posteror: -0.0038 - val_sigma^2_posterior: 0.9930 - val_mmd: 0.0466\n",
      "Epoch 30/200\n",
      "60000/60000 [==============================] - 13s 220us/sample - loss: 1.5692 - mu_posteror: -4.5553e-04 - sigma^2_posterior: 0.9937 - mmd: 0.0393 - val_loss: 1.5624 - val_mu_posteror: -0.0017 - val_sigma^2_posterior: 0.9977 - val_mmd: 0.0459\n",
      "Epoch 31/200\n",
      "60000/60000 [==============================] - 14s 226us/sample - loss: 1.5666 - mu_posteror: -1.8270e-05 - sigma^2_posterior: 0.9991 - mmd: 0.0402 - val_loss: 1.5719 - val_mu_posteror: -0.0043 - val_sigma^2_posterior: 0.9981 - val_mmd: 0.0450\n",
      "Epoch 32/200\n",
      "41728/60000 [===================>..........] - ETA: 3s - loss: 1.5698 - mu_posteror: -0.0041 - sigma^2_posterior: 0.9918 - mmd: 0.0391"
     ]
    }
   ],
   "source": [
    "vlae.fit(images, images, batch_size=256, epochs=epochs, callbacks=[lrsched, tb, es], validation_data=(test_images, test_images))"
   ]
  },
  {
   "cell_type": "code",
   "execution_count": 19,
   "metadata": {
    "_kg_hide-input": true,
    "_kg_hide-output": true
   },
   "outputs": [
    {
     "name": "stdout",
     "output_type": "stream",
     "text": [
      "Tensor(\"vlae/z_1_latent/MultivariateNormalDiag/sample/affine_linear_operator/forward/add:0\", shape=(None, 2), dtype=float32)\n",
      "Tensor(\"vlae/z_1_latent/add:0\", shape=(None, 2), dtype=float32)\n",
      "Tensor(\"vlae/z_2_latent/MultivariateNormalDiag/sample/affine_linear_operator/forward/add:0\", shape=(None, 2), dtype=float32)\n",
      "Tensor(\"vlae/z_2_latent/add:0\", shape=(None, 2), dtype=float32)\n",
      "Tensor(\"vlae/z_3_latent/MultivariateNormalDiag/sample/affine_linear_operator/forward/add:0\", shape=(None, 2), dtype=float32)\n",
      "Tensor(\"vlae/z_3_latent/add:0\", shape=(None, 2), dtype=float32)\n",
      "Tensor(\"MultivariateNormalDiag/sample/affine_linear_operator/forward/add:0\", shape=(None, 2), dtype=float32)\n",
      "Tensor(\"add:0\", shape=(None, 2), dtype=float32)\n",
      "Tensor(\"MultivariateNormalDiag/sample/affine_linear_operator/forward/add:0\", shape=(None, 2), dtype=float32)\n",
      "Tensor(\"add:0\", shape=(None, 2), dtype=float32)\n",
      "Tensor(\"MultivariateNormalDiag/sample/affine_linear_operator/forward/add:0\", shape=(None, 2), dtype=float32)\n",
      "Tensor(\"add:0\", shape=(None, 2), dtype=float32)\n"
     ]
    }
   ],
   "source": [
    "tf.saved_model.save(vlae, 'mikedev_vlae')"
   ]
  },
  {
   "cell_type": "markdown",
   "metadata": {},
   "source": [
    "# Generation\n",
    "In order to generate is sufficient sample from the prior (in my case a N(0,1)) three times because there are three latent variable in this model <br>\n",
    "Then feed into the VLAE-decoder this three random sampled values "
   ]
  },
  {
   "cell_type": "code",
   "execution_count": 20,
   "metadata": {},
   "outputs": [],
   "source": [
    "sample = [np.random.multivariate_normal([0] * latent_size, np.diag([1] * latent_size), 20)] * 3"
   ]
  },
  {
   "cell_type": "code",
   "execution_count": 21,
   "metadata": {},
   "outputs": [],
   "source": [
    "generated = vlae.get_layer('decoder').predict(sample)"
   ]
  },
  {
   "cell_type": "code",
   "execution_count": 22,
   "metadata": {},
   "outputs": [],
   "source": [
    "generated = generated.reshape((20, 28, 28))"
   ]
  },
  {
   "cell_type": "code",
   "execution_count": 23,
   "metadata": {},
   "outputs": [
    {
     "data": {
      "image/png": "[encoded data removed]",
      "text/plain": [
       "<Figure size 432x288 with 1 Axes>"
      ]
     },
     "metadata": {
      "needs_background": "light"
     },
     "output_type": "display_data"
    },
    {
     "data": {
      "image/png": "[encoded data removed]",
      "text/plain": [
       "<Figure size 432x288 with 1 Axes>"
      ]
     },
     "metadata": {
      "needs_background": "light"
     },
     "output_type": "display_data"
    },
    {
     "data": {
      "image/png": "[encoded data removed]",
      "text/plain": [
       "<Figure size 432x288 with 1 Axes>"
      ]
     },
     "metadata": {
      "needs_background": "light"
     },
     "output_type": "display_data"
    },
    {
     "data": {
      "image/png": "[encoded data removed]",
      "text/plain": [
       "<Figure size 432x288 with 1 Axes>"
      ]
     },
     "metadata": {
      "needs_background": "light"
     },
     "output_type": "display_data"
    },
    {
     "data": {
      "image/png": "[encoded data removed]",
      "text/plain": [
       "<Figure size 432x288 with 1 Axes>"
      ]
     },
     "metadata": {
      "needs_background": "light"
     },
     "output_type": "display_data"
    },
    {
     "data": {
      "image/png": "[encoded data removed]",
      "text/plain": [
       "<Figure size 432x288 with 1 Axes>"
      ]
     },
     "metadata": {
      "needs_background": "light"
     },
     "output_type": "display_data"
    },
    {
     "data": {
      "image/png": "[encoded data removed]",
      "text/plain": [
       "<Figure size 432x288 with 1 Axes>"
      ]
     },
     "metadata": {
      "needs_background": "light"
     },
     "output_type": "display_data"
    },
    {
     "data": {
      "image/png": "[encoded data removed]",
      "text/plain": [
       "<Figure size 432x288 with 1 Axes>"
      ]
     },
     "metadata": {
      "needs_background": "light"
     },
     "output_type": "display_data"
    },
    {
     "data": {
      "image/png": "[encoded data removed]",
      "text/plain": [
       "<Figure size 432x288 with 1 Axes>"
      ]
     },
     "metadata": {
      "needs_background": "light"
     },
     "output_type": "display_data"
    },
    {
     "data": {
      "image/png": "[encoded data removed]",
      "text/plain": [
       "<Figure size 432x288 with 1 Axes>"
      ]
     },
     "metadata": {
      "needs_background": "light"
     },
     "output_type": "display_data"
    },
    {
     "data": {
      "image/png": "[encoded data removed]",
      "text/plain": [
       "<Figure size 432x288 with 1 Axes>"
      ]
     },
     "metadata": {
      "needs_background": "light"
     },
     "output_type": "display_data"
    },
    {
     "data": {
      "image/png": "[encoded data removed]",
      "text/plain": [
       "<Figure size 432x288 with 1 Axes>"
      ]
     },
     "metadata": {
      "needs_background": "light"
     },
     "output_type": "display_data"
    },
    {
     "data": {
      "image/png": "[encoded data removed]",
      "text/plain": [
       "<Figure size 432x288 with 1 Axes>"
      ]
     },
     "metadata": {
      "needs_background": "light"
     },
     "output_type": "display_data"
    },
    {
     "data": {
      "image/png": "[encoded data removed]",
      "text/plain": [
       "<Figure size 432x288 with 1 Axes>"
      ]
     },
     "metadata": {
      "needs_background": "light"
     },
     "output_type": "display_data"
    },
    {
     "data": {
      "image/png": "[encoded data removed]",
      "text/plain": [
       "<Figure size 432x288 with 1 Axes>"
      ]
     },
     "metadata": {
      "needs_background": "light"
     },
     "output_type": "display_data"
    },
    {
     "data": {
      "image/png": "[encoded data removed]",
      "text/plain": [
       "<Figure size 432x288 with 1 Axes>"
      ]
     },
     "metadata": {
      "needs_background": "light"
     },
     "output_type": "display_data"
    },
    {
     "data": {
      "image/png": "[encoded data removed]",
      "text/plain": [
       "<Figure size 432x288 with 1 Axes>"
      ]
     },
     "metadata": {
      "needs_background": "light"
     },
     "output_type": "display_data"
    },
    {
     "data": {
      "image/png": "[encoded data removed]",
      "text/plain": [
       "<Figure size 432x288 with 1 Axes>"
      ]
     },
     "metadata": {
      "needs_background": "light"
     },
     "output_type": "display_data"
    },
    {
     "data": {
      "image/png": "[encoded data removed]",
      "text/plain": [
       "<Figure size 432x288 with 1 Axes>"
      ]
     },
     "metadata": {
      "needs_background": "light"
     },
     "output_type": "display_data"
    },
    {
     "data": {
      "image/png": "[encoded data removed]",
      "text/plain": [
       "<Figure size 432x288 with 1 Axes>"
      ]
     },
     "metadata": {
      "needs_background": "light"
     },
     "output_type": "display_data"
    }
   ],
   "source": [
    "for i in range(20):\n",
    "    img = generated[i, :, :]\n",
    "    plt.imshow(img, cmap='gray_r')\n",
    "    plt.show()"
   ]
  },
  {
   "cell_type": "markdown",
   "metadata": {},
   "source": [
    "# Future improvements\n",
    "* Use the label as additional information to improve the recostruction"
   ]
  }
 ],
 "metadata": {
  "kernelspec": {
   "display_name": "Python 3",
   "language": "python",
   "name": "python3"
  },
  "language_info": {
   "codemirror_mode": {
    "name": "ipython",
    "version": 3
   },
   "file_extension": ".py",
   "mimetype": "text/x-python",
   "name": "python",
   "nbconvert_exporter": "python",
   "pygments_lexer": "ipython3",
   "version": "3.6.6"
  }
 },
 "nbformat": 4,
 "nbformat_minor": 1
}
